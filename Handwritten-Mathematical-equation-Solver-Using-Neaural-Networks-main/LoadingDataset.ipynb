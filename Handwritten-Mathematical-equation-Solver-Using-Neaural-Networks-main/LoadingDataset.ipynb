{
 "cells": [
  {
   "cell_type": "code",
   "execution_count": 1,
   "metadata": {},
   "outputs": [],
   "source": [
    "import numpy as np\n",
    "import pandas as pd\n",
    "import cv2\n",
    "import os\n",
    "from os import listdir\n",
    "from os.path import join\n",
    "import matplotlib.pyplot as plt"
   ]
  },
  {
   "cell_type": "markdown",
   "metadata": {},
   "source": [
    "# Loading Dataset"
   ]
  },
  {
   "cell_type": "code",
   "execution_count": 2,
   "metadata": {},
   "outputs": [],
   "source": [
    "index_dir={'0':0,'1':1,'2':2,'3':3,'4':4,'5':5,'6':6,'7':7,'8':8,'9':9,'+':10,'-':11,'times':12}"
   ]
  },
  {
   "cell_type": "code",
   "execution_count": 3,
   "metadata": {},
   "outputs": [],
   "source": [
    "def get_index(directory):\n",
    "    return index_dir[directory]\n",
    "\n",
    "def load_images(folder):\n",
    "    train_data = []\n",
    "\n",
    "    for filename in os.listdir(folder):\n",
    "        img = cv2.imread(os.path.join(folder,filename), cv2.IMREAD_GRAYSCALE) \n",
    "        #img = ~img\n",
    "        if img is not None:\n",
    "            img = ~img\n",
    "            _, img = cv2.threshold(img, 127, 255, cv2.THRESH_BINARY)\n",
    "            ctrs, _ = cv2.findContours(img, cv2.RETR_EXTERNAL, cv2.CHAIN_APPROX_NONE)\n",
    "            cnt = sorted(ctrs, key=lambda ctr: cv2.boundingRect(ctr)[0]) \n",
    "            m = 0\n",
    "            for c in cnt:\n",
    "                x, y, w, h = cv2.boundingRect(c)\n",
    "                m = max(w*h, m)\n",
    "                if m == w*h:\n",
    "                    x_max,y_max,w_max,h_max=x,y,w,h\n",
    "            im_crop = img[y_max:y_max+h_max+10, x_max:x_max+w_max+10] \n",
    "            im_resize = cv2.resize(im_crop, (28, 28)) \n",
    "            im_resize = np.reshape(im_resize, (784, 1)) \n",
    "            train_data.append(im_resize)\n",
    "    return train_data"
   ]
  },
  {
   "cell_type": "code",
   "execution_count": null,
   "metadata": {},
   "outputs": [],
   "source": []
  },
  {
   "cell_type": "code",
   "execution_count": 4,
   "metadata": {},
   "outputs": [
    {
     "name": "stdout",
     "output_type": "stream",
     "text": [
      "Importing...\n",
      "CompleteImages\n",
      "CROHME_test_2011\n",
      "CROHME_training_2011\n",
      "dataset\n",
      "MatricesTest2014\n",
      "MatricesTrain2014\n",
      "testData_2012\n",
      "TestINKML_2013\n",
      "trainData_2012_part1\n",
      "trainData_2012_part2\n",
      "TrainINKML_2013\n"
     ]
    }
   ],
   "source": [
    "\n",
    "dataset_dir = './dataset/'\n",
    "\n",
    "# Only keep folders (ignore files like .npy)\n",
    "directory_list = [d for d in os.listdir(dataset_dir) if os.path.isdir(os.path.join(dataset_dir, d))]\n",
    "\n",
    "first = True\n",
    "data = []\n",
    "\n",
    "print(\"Importing...\")\n",
    "\n",
    "for directory in directory_list:\n",
    "    print(directory)\n",
    "    \n",
    "    if first:\n",
    "        first = False\n",
    "        data_1 = load_images(dataset_dir + directory)\n",
    "        for i in range(0, len(data_1)):\n",
    "            data.append(np.append(data_1[i], [str(get_index(directory))]))\n",
    "        continue\n",
    "\n",
    "    auxiliary_data = load_images(dataset_dir + directory)\n",
    "    for i in range(0, len(auxiliary_data)):\n",
    "        data.append(np.append(auxiliary_data[i], [str(get_index(directory))]))\n",
    "\n",
    "# Convert to dataframe and save as CSV\n",
    "df = pd.DataFrame(data, index=None)\n",
    "df.to_csv('model/train_data.csv', index=False)\n"
   ]
  },
  {
   "cell_type": "code",
   "execution_count": null,
   "metadata": {},
   "outputs": [],
   "source": []
  },
  {
   "cell_type": "code",
   "execution_count": null,
   "metadata": {},
   "outputs": [],
   "source": []
  }
 ],
 "metadata": {
  "kernelspec": {
   "display_name": "base",
   "language": "python",
   "name": "python3"
  },
  "language_info": {
   "codemirror_mode": {
    "name": "ipython",
    "version": 3
   },
   "file_extension": ".py",
   "mimetype": "text/x-python",
   "name": "python",
   "nbconvert_exporter": "python",
   "pygments_lexer": "ipython3",
   "version": "3.12.7"
  }
 },
 "nbformat": 4,
 "nbformat_minor": 4
}
